{
 "cells": [
  {
   "cell_type": "markdown",
   "id": "1d52a48a",
   "metadata": {},
   "source": [
    "# Previsão de Preço de Fechamento do Bitcoin"
   ]
  },
  {
   "cell_type": "markdown",
   "id": "5d0fb687",
   "metadata": {},
   "source": [
    "## Aluna:\n",
    "- Gabrielly Baratela de Carvalho (CP3016331)"
   ]
  },
  {
   "cell_type": "markdown",
   "id": "c4dfc11c",
   "metadata": {},
   "source": [
    "### Motivação\n",
    "\n",
    "As criptomoedas são moedas digitais que vêm a cada dia mais consolidando sua posição no mercado, tendo atualmente **mais de 843 bilhões de dólares investidos** (4,5 trilhões de reais), e mais de 20 mil diferentes opções de criptomoedas no mercado mundial. Elas podem vir a substituir, mesmo que parcialmente, o que consideramos como \"dinheiro\" atualmente, servindo como reserva de valor - preservando o patrimônio e o poder de compra do indivíduo; meio de troca - facilitando as transações comerciais e com redução de taxas; unidade de conta - parâmetro para precificação de produtos. \n",
    "\n",
    "O surgimento e a ascensão das moedas digitais se deu devido ao desejo de privacidade dos dados transacionais e a descentralização de informações, através do **blockchain**. No Blockchain múltiplos servidores armazenam registros particionados das transações, garantindo maior segurança e privacidade dos dados.\n",
    "\n",
    "A **Bitcoin** é a principal criptomoeda, e vem sendo cada dia mais reconhecida mundialmente, aparecendo em manchetes de vários jornais, por já vir sendo utilizada como forma de pagamento por algumas empresas e até para salários de jogadores de futebol. Seu crescimento maior aconteceu principalmente após 2017, 9 anos após seu lançamento, e fatos relevantes serão estudados na análise exploratória, para entendimento de eventos que podem ter impactado a série.\n",
    "\n",
    "Dada a importância desse mercado na economia atual, a motivação do estudo é entender como se comporta o preço do Bitcoin ao longo do tempo e se é possível realizar sua predição, para que haja maior confiança na aquisição das moedas e diminuição do risco de prejuízo."
   ]
  },
  {
   "cell_type": "markdown",
   "id": "2dd7e5f0",
   "metadata": {},
   "source": [
    "### Conhecendo os dados"
   ]
  },
  {
   "cell_type": "markdown",
   "id": "f5d19f76",
   "metadata": {},
   "source": [
    "Para conhecer melhor os dados, foi criado um notebook com análise exploratória no link:\n",
    "    https://projetointerdisciplinar.notebook.us-east-1.sagemaker.aws/lab/tree/ifsp_s2_bitcoin/1_EDA_yahoo_bitcoin.ipynb\n",
    "    "
   ]
  },
  {
   "cell_type": "markdown",
   "id": "0c8fd86f",
   "metadata": {},
   "source": [
    "## Artefatos:\n",
    "- Diagramas:\n",
    "    - Esquema de arquitetura do projeto\n",
    "    - Conjunto de dados\n",
    "- Notebooks:\n",
    "    - Obtenção e descrição dos dados\n",
    "    - Análise exploratória"
   ]
  },
  {
   "cell_type": "markdown",
   "id": "f18c3751",
   "metadata": {},
   "source": [
    "# Sumário\n",
    "1. Introdução\n",
    "2. Descrição dos dados (fonte, período, volume, formato, amostras dos dados)\n",
    "3. Workflow (diagrama de arquitetura mostrando as ferramentas e ordem das operações no AWS)\n",
    "4. Infraestrutura (configuração do cluster/instâncias de blocos de anotações como número de nós, tipo de máquinas/instâncias, permissões/role) - print das configurações da instancia de blocos\n",
    "5. Outras seções do notebook \n",
    "    - Setup: configs da infraestrutura, imports, imagem do pipeline de arquitetura\n",
    "    - Pipeline de dados Limpeza e Pré-processamento de dados \n",
    "    - Treinamento e validação Seguir as orientações do prof. Samuel\n",
    "    - Resultados \n",
    "    - Clean Up Remoção dos recursos utilizados que possam gerar custos\n",
    "6.  No github organizar pastas com os mesmos nomes dos itens acima"
   ]
  },
  {
   "cell_type": "markdown",
   "id": "75a9f0d9",
   "metadata": {},
   "source": [
    "* Descrição sucinta do problema e da base de dados:\n",
    "    - Qual o problema a ser resolvido?\n",
    "    - O que significa cada instância do dataset?\n",
    "    - Quais são os principais atributos e seus tipos?\n",
    "* Análise Exploratória de Dados\n",
    "    - Como cada variável se distribui?\n",
    "    - Correlação de variáveis;\n",
    "    - Gráficos que gerem insights para o tratamento de dados e/ou treinamento dos modelos:\n",
    "        - P. ex: detecção de ruídos via scatter plot;\n",
    "    - Discussão dos principais achados da análise exploratória de dados;\n",
    "* Limpeza e preparação da base de dados\n",
    "    - Exemplos:\n",
    "        - Remoção de duplicidade e/ou outliers;\n",
    "        - Preenchimento de dados faltantes;\n",
    "        - Feature scaling;\n",
    "        - Class imbalance; etc\n",
    "    - Discussão sucinta sobre a razão de cada etapa de limpeza e pré-processamento considerada;\n",
    "* Treinamento e Validação de modelos:\n",
    "    - Comparar ao menos 3 algoritmos de classificação diferentes;\n",
    "    - Cross-Validation;\n",
    "        - Métricas consideradas para o problema;\n",
    "        - Discussão dos resultados;\n",
    "        - Há overfitting ou underfitting?\n",
    "    - Fine-tunning\n",
    "    - Avaliação no conjunto de teste:\n",
    "        - Avaliar os melhores modelos no conjunto de teste;\n",
    "        - Discussão dos resultados.\n",
    "    * Trabalhos Futuros:\n",
    "        - Discussão sobre estratégias/ideias/sugestões para a melhoria dos modelos;\n",
    "* Relatório (Notebook):\n",
    "    - Organização do relatório;\n",
    "    - Clareza na apresentação dos textos e códigos;\n",
    "    - Qualidade do código;\n",
    "* Atividades opcionais:\n",
    "    - Uso de técnicas não vistas em sala;\n",
    "    - Abordagem de negócios:\n",
    "        - Motivação e descrição mais detalhada sobre o problema, com enfoque na resolução de problemas de negócio;\n",
    "        - Definição de um baseline;\n",
    "        - Comparação dos resultados com o baseline;\n",
    "        - Conversão dos resultados (medidas técnicas) em medidas/performance de negócio:\n",
    "            - P. ex, o que os 10% a mais de acurácia de seu modelo, frente ao baseline, impactaram no negócio da empresa?"
   ]
  },
  {
   "cell_type": "code",
   "execution_count": null,
   "id": "129da119",
   "metadata": {},
   "outputs": [],
   "source": []
  }
 ],
 "metadata": {
  "kernelspec": {
   "display_name": "conda_python3",
   "language": "python",
   "name": "conda_python3"
  },
  "language_info": {
   "codemirror_mode": {
    "name": "ipython",
    "version": 3
   },
   "file_extension": ".py",
   "mimetype": "text/x-python",
   "name": "python",
   "nbconvert_exporter": "python",
   "pygments_lexer": "ipython3",
   "version": "3.8.12"
  }
 },
 "nbformat": 4,
 "nbformat_minor": 5
}
