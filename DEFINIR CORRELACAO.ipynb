{
 "cells": [
  {
   "cell_type": "markdown",
   "metadata": {},
   "source": [
    "# Conhecendo os dados"
   ]
  },
  {
   "cell_type": "markdown",
   "metadata": {},
   "source": [
    "Para entender como o bitcoin se comporta ao longo do tempo e realizar a predição de preços, é necessário, pelo menos, de sua série histórica diária. Além disso, alguns fatores podem influenciar no preço da criptomoeda e explicar sua variação, portanto serão estudados como potenciais covariáveis para o modelo."
   ]
  },
  {
   "cell_type": "markdown",
   "metadata": {},
   "source": [
    "## Sumário do notebook:\n",
    "   1. Definição do ambiente\n",
    "   2. Coleta dos dados\n",
    "   3. Análise exploratória"
   ]
  },
  {
   "cell_type": "markdown",
   "metadata": {},
   "source": [
    "-----------\n",
    "\n",
    "## 1. Definição do ambiente"
   ]
  },
  {
   "cell_type": "markdown",
   "metadata": {},
   "source": [
    "### Bibliotecas"
   ]
  },
  {
   "cell_type": "code",
   "execution_count": null,
   "metadata": {},
   "outputs": [],
   "source": [
    "!pip install swifter\n",
    "!pip install pandas_datareader\n",
    "!pip install pytrends\n",
    "!pip install dash\n",
    "!pip install nasdaq-data-link\n",
    "!pip install fundingrate\n",
    "!pip install jupyter-dash"
   ]
  },
  {
   "cell_type": "code",
   "execution_count": 32,
   "metadata": {
    "ExecuteTime": {
     "end_time": "2022-06-06T00:01:43.228673Z",
     "start_time": "2022-06-06T00:01:38.256294Z"
    },
    "id": "qGT5x1n7WVWR",
    "tags": []
   },
   "outputs": [],
   "source": [
    "import pandas as pd\n",
    "import numpy as np\n",
    "\n",
    "import datetime as dt\n",
    "from dateutil.relativedelta import *\n",
    "\n",
    "import pandas_datareader.data as web\n",
    "from pytrends.request import TrendReq\n",
    "import nasdaqdatalink\n",
    "from fundingrate import funding_dydx\n",
    "\n",
    "import plotly.graph_objects as go\n",
    "from plotly.subplots import make_subplots\n",
    "import seaborn as sns\n",
    "import matplotlib.pyplot as plt\n",
    "from dash import Dash, dcc, html, Input, Output\n",
    "from jupyter_dash import JupyterDash\n",
    "\n",
    "import swifter\n",
    "\n",
    "from sklearn.preprocessing import MinMaxScaler"
   ]
  },
  {
   "cell_type": "code",
   "execution_count": 33,
   "metadata": {
    "ExecuteTime": {
     "end_time": "2022-06-06T00:01:43.244342Z",
     "start_time": "2022-06-06T00:01:43.230176Z"
    },
    "id": "1rU5T-kiWm6o"
   },
   "outputs": [],
   "source": [
    "pd.set_option('display.max_columns', 200)\n",
    "pd.set_option('display.max_rows', 500)\n",
    "pd.set_option('display.min_rows', 500)\n",
    "pd.set_option('display.expand_frame_repr', True)\n",
    "# warnings.simplefilter(action='ignore', category=FutureWarning)"
   ]
  },
  {
   "cell_type": "markdown",
   "metadata": {},
   "source": [
    "### Variáveis globais"
   ]
  },
  {
   "cell_type": "code",
   "execution_count": 34,
   "metadata": {
    "ExecuteTime": {
     "end_time": "2022-06-06T00:01:43.260270Z",
     "start_time": "2022-06-06T00:01:43.248286Z"
    },
    "id": "cQOPQO91r9F6"
   },
   "outputs": [],
   "source": [
    "#@title parâmetros de formatação dos gráficos {display-mode: \"form\"}\n",
    "plotly_kwargs = dict(\n",
    "    title_x=0.5,\n",
    "    autosize=False,\n",
    "    plot_bgcolor='white',\n",
    "    margin=dict(l=2, r=10, t=30, b=2),\n",
    "    width=1000,\n",
    "    height=500,\n",
    "    hovermode='x unified',\n",
    "    xaxis=dict(\n",
    "        showline=True,\n",
    "        showgrid=False,\n",
    "        showticklabels=True,\n",
    "        linecolor='rgb(204, 204, 204)',\n",
    "        linewidth=2,\n",
    "        ticks='outside',\n",
    "        tickfont=dict(\n",
    "            family='Arial',\n",
    "            size=12,\n",
    "            color='rgb(82, 82, 82)',\n",
    "        ),\n",
    "    )\n",
    ")"
   ]
  },
  {
   "cell_type": "code",
   "execution_count": 35,
   "metadata": {
    "ExecuteTime": {
     "end_time": "2022-06-06T00:01:43.276227Z",
     "start_time": "2022-06-06T00:01:43.262265Z"
    }
   },
   "outputs": [],
   "source": [
    "cores_tema = {\n",
    "   'verde_claro': '#8DD8D3',\n",
    "   'verde_escuro': '#599191', \n",
    "   'azul_petroleo': '#0B6374',\n",
    "   'cinza_escuro': '#424242',\n",
    "   'azul_bic': '#27278B', \n",
    "    'azul':'#1b86b9',\n",
    "   'laranja': '#C0791B',  \n",
    "   'vermelho': '#FD5B58', \n",
    "   'rosa': '#D558AB',\n",
    "   'amarelado': '#D7E6A3'\n",
    "}"
   ]
  },
  {
   "cell_type": "code",
   "execution_count": 36,
   "metadata": {
    "ExecuteTime": {
     "end_time": "2022-06-06T00:01:43.291953Z",
     "start_time": "2022-06-06T00:01:43.278222Z"
    }
   },
   "outputs": [],
   "source": [
    "dt_fim = pd.to_datetime('2022-11-17')\n",
    "periodo = pd.to_datetime([dt_fim + relativedelta(years=-5), dt_fim])"
   ]
  },
  {
   "cell_type": "markdown",
   "metadata": {
    "id": "bo-6NLRmqixk"
   },
   "source": [
    "### Funções úteis"
   ]
  },
  {
   "cell_type": "code",
   "execution_count": 37,
   "metadata": {
    "ExecuteTime": {
     "end_time": "2022-06-06T00:01:43.317944Z",
     "start_time": "2022-06-06T00:01:43.293998Z"
    },
    "id": "Eu5uDs_fqlmb"
   },
   "outputs": [],
   "source": [
    "def create_corr_plot(series, nlags=None, plot_pacf=False):\n",
    "    corr_array = pacf(series.dropna(), nlags=nlags, alpha=0.05) if plot_pacf else acf(series.dropna(), nlags=nlags, alpha=0.05)\n",
    "    lower_y = corr_array[1][:,0] - corr_array[0]\n",
    "    upper_y = corr_array[1][:,1] - corr_array[0]\n",
    "\n",
    "    fig = go.Figure()\n",
    "    [fig.add_scatter(x=(x,x), y=(0,corr_array[0][x]), mode='lines',line_color='#3f3f3f') \n",
    "     for x in range(len(corr_array[0]))]\n",
    "    fig.add_scatter(x=np.arange(len(corr_array[0])), y=corr_array[0], mode='markers', marker_color='#1f77b4',\n",
    "                   marker_size=12)\n",
    "    fig.add_scatter(x=np.arange(len(corr_array[0])), y=upper_y, mode='lines', line_color='rgba(255,255,255,0)')\n",
    "    fig.add_scatter(x=np.arange(len(corr_array[0])), y=lower_y, mode='lines',fillcolor='rgba(32, 146, 230,0.3)',\n",
    "            fill='tonexty', line_color='rgba(255,255,255,0)')\n",
    "    fig.update_traces(showlegend=False)\n",
    "    fig.update_xaxes(range=[-1,42])\n",
    "    fig.update_yaxes(zerolinecolor='#000000')\n",
    "    \n",
    "    title='Partial Autocorrelation (PACF)' if plot_pacf else 'Autocorrelation (ACF)'\n",
    "    fig.update_layout(title=title, **plotly_kwargs)\n",
    "    \n",
    "    return fig"
   ]
  },
  {
   "cell_type": "markdown",
   "metadata": {
    "id": "JxaEEIq7Wg0j"
   },
   "source": [
    "-----------\n",
    "\n",
    "## 2. Coleta dos dados"
   ]
  },
  {
   "cell_type": "markdown",
   "metadata": {},
   "source": [
    "**Bases de dados históricas:**\n",
    "\n",
    "As bases de dados históricas contém registros por data\n",
    "\n",
    "- `BTC - Bitcoin`: essa é a base principal, que contém o histórico de preços da criptomoeda BTC ao longo do tempo e também o volume de transações.\n",
    "- `Tether`: preço da Tether (USDT), a maior stablecoin do universo dos ativos digitais, com alta capitalização de mercado - maior do que a grande maioria das criptomoedas.\n",
    "- `Ether`: preço da Ether (ETH), nome dado ao token nativo do blockchain Ethereum e a segunda maior criptomoeda do mundo em valor de mercado.\n",
    "- `NDXT`: índice NDXT — que reúne as 100 maiores empresas de tecnologia listada na Nasdaq.\n",
    "- `SP500`: S&P 500, abreviação de Standard & Poor's 500, é um índice composto por quinhentos ativos cotados nas bolsas de NYSE ou NASDAQ, qualificados devido ao seu tamanho de mercado, sua liquidez e sua representação de grupo industrial.\n",
    "- `USD`: preço do dólar (referente ao real) no período analisado.\n",
    "- `Pytrends - btc_iot`: interesse relativo de pesquisas sobre o termo bitcoin no google ao longo do tempo \n",
    "- `Hash Rate`: medida usada para calcular a velocidade de resolução de um código da blockchain. O hashrate pode indicar queda na mineração ou fraqueza no mercado, causando pressão descendente no preço\n"
   ]
  },
  {
   "cell_type": "markdown",
   "metadata": {},
   "source": [
    "**Variável Target:**\n",
    "\n",
    "Como queremos predizer o preço de fechamento ajustado da bitcoin, nossa _variável target_ é `Adj Close`, da base BTC. A nomenclatura da variável será alterada para `btc`."
   ]
  },
  {
   "cell_type": "markdown",
   "metadata": {
    "id": "4yv66OJhghDb"
   },
   "source": [
    "**Dicionário das colunas**:\n",
    "\n",
    "As bases btc, tether, ether, ndxt e sp500, são extraídas da mesma fonte e possuem as mesmas colunas, descritas abaixo:\n",
    "1. `Date`: É a a coluna de index, que representa a data associada ao preço daquele registro.\n",
    "2. `Close`: O preço de fechamento da BTC no respectivo dia, ou sejam o último preço no qual a BTC foi vendida naquele dia.\n",
    "3. `Open`: O preço de abertura da BTC no respectivo dia, ou sejam o primeiro preço no qual a BTC foi vendida naquele dia.\n",
    "4. `High`: O maior preço que a BTC foi vendida no respectivo dia.\n",
    "5. `Low`:  O menor preço que a BTC foi vendida no respectivo dia.\n",
    "6. `Volume`: O número de transações totais naquele dia.\n",
    "7. `Adj Close`: O preço de fechamento ajustado por dividendos e desdobramentos de ações.\n",
    "\n",
    "A coluna `Adj Close`, representando o preço de fechameto ajustado, será a coluna priorizada para todas as variáveis. \n",
    "\n",
    "As demais bases de dados contém somente uma coluna referente à informação descrita no tópico de \"bases de dados históricas\", portanto, não serão repetidos aqui."
   ]
  },
  {
   "cell_type": "markdown",
   "metadata": {
    "ExecuteTime": {
     "end_time": "2022-06-05T12:58:39.962454Z",
     "start_time": "2022-06-05T12:58:39.755465Z"
    },
    "tags": []
   },
   "source": [
    "### 2.1. Bitcoin - Yahoo"
   ]
  },
  {
   "cell_type": "code",
   "execution_count": 38,
   "metadata": {
    "ExecuteTime": {
     "end_time": "2022-06-06T00:01:44.652440Z",
     "start_time": "2022-06-06T00:01:43.319102Z"
    },
    "id": "7_UBaCxDWh8O"
   },
   "outputs": [],
   "source": [
    "btc = web.DataReader('BTC-USD', data_source='yahoo', start=periodo[0], end=periodo[1])\n",
    "\n",
    "# Ajustando nomes das colunas\n",
    "btc.columns = ['btc_' + c.lower() for c in btc.columns]\n",
    "btc = btc.rename(columns={'btc_adj close':'btc'})"
   ]
  },
  {
   "cell_type": "code",
   "execution_count": 74,
   "metadata": {},
   "outputs": [
    {
     "data": {
      "text/plain": [
       "(1828, 6)"
      ]
     },
     "execution_count": 74,
     "metadata": {},
     "output_type": "execute_result"
    }
   ],
   "source": [
    "btc.shape"
   ]
  },
  {
   "cell_type": "code",
   "execution_count": 76,
   "metadata": {},
   "outputs": [
    {
     "data": {
      "text/html": [
       "<div>\n",
       "<style scoped>\n",
       "    .dataframe tbody tr th:only-of-type {\n",
       "        vertical-align: middle;\n",
       "    }\n",
       "\n",
       "    .dataframe tbody tr th {\n",
       "        vertical-align: top;\n",
       "    }\n",
       "\n",
       "    .dataframe thead th {\n",
       "        text-align: right;\n",
       "    }\n",
       "</style>\n",
       "<table border=\"1\" class=\"dataframe\">\n",
       "  <thead>\n",
       "    <tr style=\"text-align: right;\">\n",
       "      <th></th>\n",
       "      <th>btc_high</th>\n",
       "      <th>btc_low</th>\n",
       "      <th>btc_open</th>\n",
       "      <th>btc_close</th>\n",
       "      <th>btc_volume</th>\n",
       "      <th>btc</th>\n",
       "    </tr>\n",
       "    <tr>\n",
       "      <th>Date</th>\n",
       "      <th></th>\n",
       "      <th></th>\n",
       "      <th></th>\n",
       "      <th></th>\n",
       "      <th></th>\n",
       "      <th></th>\n",
       "    </tr>\n",
       "  </thead>\n",
       "  <tbody>\n",
       "    <tr>\n",
       "      <th>2017-11-17</th>\n",
       "      <td>8004.589844</td>\n",
       "      <td>7561.089844</td>\n",
       "      <td>7853.569824</td>\n",
       "      <td>7708.990234</td>\n",
       "      <td>4651670016</td>\n",
       "      <td>7708.990234</td>\n",
       "    </tr>\n",
       "    <tr>\n",
       "      <th>2017-11-18</th>\n",
       "      <td>7884.990234</td>\n",
       "      <td>7463.439941</td>\n",
       "      <td>7697.209961</td>\n",
       "      <td>7790.149902</td>\n",
       "      <td>3667190016</td>\n",
       "      <td>7790.149902</td>\n",
       "    </tr>\n",
       "    <tr>\n",
       "      <th>2017-11-19</th>\n",
       "      <td>8101.910156</td>\n",
       "      <td>7694.100098</td>\n",
       "      <td>7766.029785</td>\n",
       "      <td>8036.490234</td>\n",
       "      <td>3149319936</td>\n",
       "      <td>8036.490234</td>\n",
       "    </tr>\n",
       "  </tbody>\n",
       "</table>\n",
       "</div>"
      ],
      "text/plain": [
       "               btc_high      btc_low     btc_open    btc_close  btc_volume  \\\n",
       "Date                                                                         \n",
       "2017-11-17  8004.589844  7561.089844  7853.569824  7708.990234  4651670016   \n",
       "2017-11-18  7884.990234  7463.439941  7697.209961  7790.149902  3667190016   \n",
       "2017-11-19  8101.910156  7694.100098  7766.029785  8036.490234  3149319936   \n",
       "\n",
       "                    btc  \n",
       "Date                     \n",
       "2017-11-17  7708.990234  \n",
       "2017-11-18  7790.149902  \n",
       "2017-11-19  8036.490234  "
      ]
     },
     "execution_count": 76,
     "metadata": {},
     "output_type": "execute_result"
    }
   ],
   "source": [
    "btc.head(3)"
   ]
  },
  {
   "cell_type": "code",
   "execution_count": 77,
   "metadata": {
    "ExecuteTime": {
     "end_time": "2022-06-06T00:01:44.689263Z",
     "start_time": "2022-06-06T00:01:44.653515Z"
    },
    "colab": {
     "base_uri": "https://localhost:8080/",
     "height": 238
    },
    "id": "icfpzYYRfhcM",
    "outputId": "429d0f7c-de48-40a5-bbe3-832ec722f0ae"
   },
   "outputs": [
    {
     "data": {
      "text/html": [
       "<div>\n",
       "<style scoped>\n",
       "    .dataframe tbody tr th:only-of-type {\n",
       "        vertical-align: middle;\n",
       "    }\n",
       "\n",
       "    .dataframe tbody tr th {\n",
       "        vertical-align: top;\n",
       "    }\n",
       "\n",
       "    .dataframe thead th {\n",
       "        text-align: right;\n",
       "    }\n",
       "</style>\n",
       "<table border=\"1\" class=\"dataframe\">\n",
       "  <thead>\n",
       "    <tr style=\"text-align: right;\">\n",
       "      <th></th>\n",
       "      <th>btc_high</th>\n",
       "      <th>btc_low</th>\n",
       "      <th>btc_open</th>\n",
       "      <th>btc_close</th>\n",
       "      <th>btc_volume</th>\n",
       "      <th>btc</th>\n",
       "    </tr>\n",
       "    <tr>\n",
       "      <th>Date</th>\n",
       "      <th></th>\n",
       "      <th></th>\n",
       "      <th></th>\n",
       "      <th></th>\n",
       "      <th></th>\n",
       "      <th></th>\n",
       "    </tr>\n",
       "  </thead>\n",
       "  <tbody>\n",
       "    <tr>\n",
       "      <th>2022-11-16</th>\n",
       "      <td>16960.294922</td>\n",
       "      <td>16430.111328</td>\n",
       "      <td>16884.341797</td>\n",
       "      <td>16669.439453</td>\n",
       "      <td>33925512989</td>\n",
       "      <td>16669.439453</td>\n",
       "    </tr>\n",
       "    <tr>\n",
       "      <th>2022-11-17</th>\n",
       "      <td>16726.439453</td>\n",
       "      <td>16460.683594</td>\n",
       "      <td>16670.425781</td>\n",
       "      <td>16687.517578</td>\n",
       "      <td>27868914022</td>\n",
       "      <td>16687.517578</td>\n",
       "    </tr>\n",
       "    <tr>\n",
       "      <th>2022-11-18</th>\n",
       "      <td>16947.058594</td>\n",
       "      <td>16564.611328</td>\n",
       "      <td>16687.912109</td>\n",
       "      <td>16697.777344</td>\n",
       "      <td>26862218609</td>\n",
       "      <td>16697.777344</td>\n",
       "    </tr>\n",
       "  </tbody>\n",
       "</table>\n",
       "</div>"
      ],
      "text/plain": [
       "                btc_high       btc_low      btc_open     btc_close  \\\n",
       "Date                                                                 \n",
       "2022-11-16  16960.294922  16430.111328  16884.341797  16669.439453   \n",
       "2022-11-17  16726.439453  16460.683594  16670.425781  16687.517578   \n",
       "2022-11-18  16947.058594  16564.611328  16687.912109  16697.777344   \n",
       "\n",
       "             btc_volume           btc  \n",
       "Date                                   \n",
       "2022-11-16  33925512989  16669.439453  \n",
       "2022-11-17  27868914022  16687.517578  \n",
       "2022-11-18  26862218609  16697.777344  "
      ]
     },
     "execution_count": 77,
     "metadata": {},
     "output_type": "execute_result"
    }
   ],
   "source": [
    "btc.tail(3)"
   ]
  },
  {
   "cell_type": "markdown",
   "metadata": {},
   "source": [
    "A base histórica de bitcoins tem 1828 registros e 6 colunas, com seu histórico completo no período selecionado."
   ]
  },
  {
   "cell_type": "markdown",
   "metadata": {},
   "source": [
    "### 2.2. Yahoo - Outras criptomoedas + Indices Americanos"
   ]
  },
  {
   "cell_type": "code",
   "execution_count": 40,
   "metadata": {
    "ExecuteTime": {
     "end_time": "2022-06-06T00:01:47.876696Z",
     "start_time": "2022-06-06T00:01:47.862204Z"
    }
   },
   "outputs": [],
   "source": [
    "tickers = ['USDT-USD', 'ETH-USD'] + [\"^NDXT\", '^GSPC', \"USDBRL=x\"] # criptos + indices\n",
    "ticker_names = ['usdt','eth', 'ndxt', 'sp500', 'usd']"
   ]
  },
  {
   "cell_type": "code",
   "execution_count": 81,
   "metadata": {
    "ExecuteTime": {
     "end_time": "2022-06-06T00:01:52.370523Z",
     "start_time": "2022-06-06T00:01:47.878652Z"
    }
   },
   "outputs": [],
   "source": [
    "df_yahoo = web.get_data_yahoo(tickers, start=periodo[0], end=periodo[1])[\"Adj Close\"]\n",
    "df_yahoo.columns=ticker_names"
   ]
  },
  {
   "cell_type": "code",
   "execution_count": 82,
   "metadata": {
    "ExecuteTime": {
     "end_time": "2022-06-06T00:01:52.386072Z",
     "start_time": "2022-06-06T00:01:52.371529Z"
    }
   },
   "outputs": [
    {
     "data": {
      "text/html": [
       "<div>\n",
       "<style scoped>\n",
       "    .dataframe tbody tr th:only-of-type {\n",
       "        vertical-align: middle;\n",
       "    }\n",
       "\n",
       "    .dataframe tbody tr th {\n",
       "        vertical-align: top;\n",
       "    }\n",
       "\n",
       "    .dataframe thead th {\n",
       "        text-align: right;\n",
       "    }\n",
       "</style>\n",
       "<table border=\"1\" class=\"dataframe\">\n",
       "  <thead>\n",
       "    <tr style=\"text-align: right;\">\n",
       "      <th></th>\n",
       "      <th>usdt</th>\n",
       "      <th>eth</th>\n",
       "      <th>ndxt</th>\n",
       "      <th>sp500</th>\n",
       "      <th>usd</th>\n",
       "    </tr>\n",
       "    <tr>\n",
       "      <th>Date</th>\n",
       "      <th></th>\n",
       "      <th></th>\n",
       "      <th></th>\n",
       "      <th></th>\n",
       "      <th></th>\n",
       "    </tr>\n",
       "  </thead>\n",
       "  <tbody>\n",
       "    <tr>\n",
       "      <th>2017-11-17</th>\n",
       "      <td>1.00139</td>\n",
       "      <td>332.394012</td>\n",
       "      <td>4031.629883</td>\n",
       "      <td>2578.850098</td>\n",
       "      <td>3.2706</td>\n",
       "    </tr>\n",
       "    <tr>\n",
       "      <th>2017-11-18</th>\n",
       "      <td>1.00231</td>\n",
       "      <td>347.612000</td>\n",
       "      <td>NaN</td>\n",
       "      <td>NaN</td>\n",
       "      <td>NaN</td>\n",
       "    </tr>\n",
       "    <tr>\n",
       "      <th>2017-11-19</th>\n",
       "      <td>1.00244</td>\n",
       "      <td>354.385986</td>\n",
       "      <td>NaN</td>\n",
       "      <td>NaN</td>\n",
       "      <td>NaN</td>\n",
       "    </tr>\n",
       "  </tbody>\n",
       "</table>\n",
       "</div>"
      ],
      "text/plain": [
       "               usdt         eth         ndxt        sp500     usd\n",
       "Date                                                             \n",
       "2017-11-17  1.00139  332.394012  4031.629883  2578.850098  3.2706\n",
       "2017-11-18  1.00231  347.612000          NaN          NaN     NaN\n",
       "2017-11-19  1.00244  354.385986          NaN          NaN     NaN"
      ]
     },
     "execution_count": 87,
     "metadata": {},
     "output_type": "execute_result"
    }
   ],
   "source": [
    "df_yahoo.head(3)"
   ]
  },
  {
   "cell_type": "code",
   "execution_count": 83,
   "metadata": {},
   "outputs": [
    {
     "data": {
      "text/html": [
       "<div>\n",
       "<style scoped>\n",
       "    .dataframe tbody tr th:only-of-type {\n",
       "        vertical-align: middle;\n",
       "    }\n",
       "\n",
       "    .dataframe tbody tr th {\n",
       "        vertical-align: top;\n",
       "    }\n",
       "\n",
       "    .dataframe thead th {\n",
       "        text-align: right;\n",
       "    }\n",
       "</style>\n",
       "<table border=\"1\" class=\"dataframe\">\n",
       "  <thead>\n",
       "    <tr style=\"text-align: right;\">\n",
       "      <th></th>\n",
       "      <th>usdt</th>\n",
       "      <th>eth</th>\n",
       "      <th>ndxt</th>\n",
       "      <th>sp500</th>\n",
       "      <th>usd</th>\n",
       "    </tr>\n",
       "    <tr>\n",
       "      <th>Date</th>\n",
       "      <th></th>\n",
       "      <th></th>\n",
       "      <th></th>\n",
       "      <th></th>\n",
       "      <th></th>\n",
       "    </tr>\n",
       "  </thead>\n",
       "  <tbody>\n",
       "    <tr>\n",
       "      <th>2022-11-17</th>\n",
       "      <td>0.999402</td>\n",
       "      <td>1200.808594</td>\n",
       "      <td>6078.709961</td>\n",
       "      <td>3946.560059</td>\n",
       "      <td>5.3990</td>\n",
       "    </tr>\n",
       "    <tr>\n",
       "      <th>2022-11-18</th>\n",
       "      <td>0.999163</td>\n",
       "      <td>1212.300293</td>\n",
       "      <td>NaN</td>\n",
       "      <td>NaN</td>\n",
       "      <td>5.4221</td>\n",
       "    </tr>\n",
       "    <tr>\n",
       "      <th>2022-11-19</th>\n",
       "      <td>NaN</td>\n",
       "      <td>NaN</td>\n",
       "      <td>NaN</td>\n",
       "      <td>NaN</td>\n",
       "      <td>5.3827</td>\n",
       "    </tr>\n",
       "  </tbody>\n",
       "</table>\n",
       "</div>"
      ],
      "text/plain": [
       "                usdt          eth         ndxt        sp500     usd\n",
       "Date                                                               \n",
       "2022-11-17  0.999402  1200.808594  6078.709961  3946.560059  5.3990\n",
       "2022-11-18  0.999163  1212.300293          NaN          NaN  5.4221\n",
       "2022-11-19       NaN          NaN          NaN          NaN  5.3827"
      ]
     },
     "execution_count": 88,
     "metadata": {},
     "output_type": "execute_result"
    }
   ],
   "source": [
    "df_yahoo.tail(3)"
   ]
  },
  {
   "cell_type": "markdown",
   "metadata": {},
   "source": [
    "Para essa base, o dado é diário mas já observamos coletas faltantes que devem ser tratadas posteriormente.\n",
    "Observa-se também que o filtro de data final da função não funciona muito bem, mas o caso será tratado posteriormente para todas as bases, pois o problema está na função (outros testes foram feitos)."
   ]
  },
  {
   "cell_type": "code",
   "execution_count": 43,
   "metadata": {},
   "outputs": [
    {
     "data": {
      "text/html": [
       "<div>\n",
       "<style scoped>\n",
       "    .dataframe tbody tr th:only-of-type {\n",
       "        vertical-align: middle;\n",
       "    }\n",
       "\n",
       "    .dataframe tbody tr th {\n",
       "        vertical-align: top;\n",
       "    }\n",
       "\n",
       "    .dataframe thead th {\n",
       "        text-align: right;\n",
       "    }\n",
       "</style>\n",
       "<table border=\"1\" class=\"dataframe\">\n",
       "  <thead>\n",
       "    <tr style=\"text-align: right;\">\n",
       "      <th></th>\n",
       "      <th>usdt</th>\n",
       "      <th>eth</th>\n",
       "      <th>ndxt</th>\n",
       "      <th>sp500</th>\n",
       "      <th>usd</th>\n",
       "    </tr>\n",
       "  </thead>\n",
       "  <tbody>\n",
       "    <tr>\n",
       "      <th>count</th>\n",
       "      <td>1828.000000</td>\n",
       "      <td>1828.000000</td>\n",
       "      <td>1259.000000</td>\n",
       "      <td>1259.000000</td>\n",
       "      <td>1306.000000</td>\n",
       "    </tr>\n",
       "    <tr>\n",
       "      <th>mean</th>\n",
       "      <td>1.001591</td>\n",
       "      <td>1131.236136</td>\n",
       "      <td>6021.373109</td>\n",
       "      <td>3420.030182</td>\n",
       "      <td>4.613303</td>\n",
       "    </tr>\n",
       "    <tr>\n",
       "      <th>std</th>\n",
       "      <td>0.005766</td>\n",
       "      <td>1203.097282</td>\n",
       "      <td>1748.625487</td>\n",
       "      <td>675.156441</td>\n",
       "      <td>0.796489</td>\n",
       "    </tr>\n",
       "    <tr>\n",
       "      <th>min</th>\n",
       "      <td>0.966644</td>\n",
       "      <td>84.308296</td>\n",
       "      <td>3457.919922</td>\n",
       "      <td>2237.399902</td>\n",
       "      <td>3.145100</td>\n",
       "    </tr>\n",
       "    <tr>\n",
       "      <th>25%</th>\n",
       "      <td>0.999982</td>\n",
       "      <td>209.034111</td>\n",
       "      <td>4393.555176</td>\n",
       "      <td>2821.954956</td>\n",
       "      <td>3.865525</td>\n",
       "    </tr>\n",
       "    <tr>\n",
       "      <th>50%</th>\n",
       "      <td>1.000500</td>\n",
       "      <td>478.433487</td>\n",
       "      <td>5643.189941</td>\n",
       "      <td>3224.729980</td>\n",
       "      <td>4.932600</td>\n",
       "    </tr>\n",
       "    <tr>\n",
       "      <th>75%</th>\n",
       "      <td>1.002497</td>\n",
       "      <td>1802.185455</td>\n",
       "      <td>7543.064941</td>\n",
       "      <td>4018.845093</td>\n",
       "      <td>5.323050</td>\n",
       "    </tr>\n",
       "    <tr>\n",
       "      <th>max</th>\n",
       "      <td>1.077880</td>\n",
       "      <td>4812.087402</td>\n",
       "      <td>9855.419922</td>\n",
       "      <td>4796.560059</td>\n",
       "      <td>5.886400</td>\n",
       "    </tr>\n",
       "  </tbody>\n",
       "</table>\n",
       "</div>"
      ],
      "text/plain": [
       "              usdt          eth         ndxt        sp500          usd\n",
       "count  1828.000000  1828.000000  1259.000000  1259.000000  1306.000000\n",
       "mean      1.001591  1131.236136  6021.373109  3420.030182     4.613303\n",
       "std       0.005766  1203.097282  1748.625487   675.156441     0.796489\n",
       "min       0.966644    84.308296  3457.919922  2237.399902     3.145100\n",
       "25%       0.999982   209.034111  4393.555176  2821.954956     3.865525\n",
       "50%       1.000500   478.433487  5643.189941  3224.729980     4.932600\n",
       "75%       1.002497  1802.185455  7543.064941  4018.845093     5.323050\n",
       "max       1.077880  4812.087402  9855.419922  4796.560059     5.886400"
      ]
     },
     "execution_count": 43,
     "metadata": {},
     "output_type": "execute_result"
    }
   ],
   "source": [
    "df_yahoo.describe()"
   ]
  },
  {
   "cell_type": "markdown",
   "metadata": {
    "tags": []
   },
   "source": [
    "### 2.3. Pytrends - interesse ao longo do tempo"
   ]
  },
  {
   "cell_type": "code",
   "execution_count": 44,
   "metadata": {
    "ExecuteTime": {
     "end_time": "2022-06-06T00:01:47.861141Z",
     "start_time": "2022-06-06T00:01:44.692817Z"
    }
   },
   "outputs": [],
   "source": [
    "# Conexão com google\n",
    "bittrends = TrendReq(hl='en-US', tz=360) \n",
    "\n",
    "# Puxando dados\n",
    "bittrends.build_payload(['bitcoin'], cat=0, timeframe=\" \".join(periodo.astype(str)), geo='') \n",
    "btc_iot = bittrends.interest_over_time() \n",
    "\n",
    "# Filtro \n",
    "btc_iot = btc_iot[~btc_iot['isPartial']]\n",
    "\n",
    "# Ajustando colunas\n",
    "btc_iot.index.names=['Date']\n",
    "btc_iot = btc_iot.rename(columns={'bitcoin':'iot'}).drop(columns=['isPartial'])"
   ]
  },
  {
   "cell_type": "code",
   "execution_count": 89,
   "metadata": {},
   "outputs": [
    {
     "data": {
      "text/html": [
       "<div>\n",
       "<style scoped>\n",
       "    .dataframe tbody tr th:only-of-type {\n",
       "        vertical-align: middle;\n",
       "    }\n",
       "\n",
       "    .dataframe tbody tr th {\n",
       "        vertical-align: top;\n",
       "    }\n",
       "\n",
       "    .dataframe thead th {\n",
       "        text-align: right;\n",
       "    }\n",
       "</style>\n",
       "<table border=\"1\" class=\"dataframe\">\n",
       "  <thead>\n",
       "    <tr style=\"text-align: right;\">\n",
       "      <th></th>\n",
       "      <th>iot</th>\n",
       "    </tr>\n",
       "    <tr>\n",
       "      <th>Date</th>\n",
       "      <th></th>\n",
       "    </tr>\n",
       "  </thead>\n",
       "  <tbody>\n",
       "    <tr>\n",
       "      <th>2017-11-19</th>\n",
       "      <td>28</td>\n",
       "    </tr>\n",
       "    <tr>\n",
       "      <th>2017-11-26</th>\n",
       "      <td>64</td>\n",
       "    </tr>\n",
       "    <tr>\n",
       "      <th>2017-12-03</th>\n",
       "      <td>88</td>\n",
       "    </tr>\n",
       "  </tbody>\n",
       "</table>\n",
       "</div>"
      ],
      "text/plain": [
       "            iot\n",
       "Date           \n",
       "2017-11-19   28\n",
       "2017-11-26   64\n",
       "2017-12-03   88"
      ]
     },
     "execution_count": 89,
     "metadata": {},
     "output_type": "execute_result"
    }
   ],
   "source": [
    "btc_iot.head(3)"
   ]
  },
  {
   "cell_type": "code",
   "execution_count": 90,
   "metadata": {},
   "outputs": [
    {
     "data": {
      "text/html": [
       "<div>\n",
       "<style scoped>\n",
       "    .dataframe tbody tr th:only-of-type {\n",
       "        vertical-align: middle;\n",
       "    }\n",
       "\n",
       "    .dataframe tbody tr th {\n",
       "        vertical-align: top;\n",
       "    }\n",
       "\n",
       "    .dataframe thead th {\n",
       "        text-align: right;\n",
       "    }\n",
       "</style>\n",
       "<table border=\"1\" class=\"dataframe\">\n",
       "  <thead>\n",
       "    <tr style=\"text-align: right;\">\n",
       "      <th></th>\n",
       "      <th>iot</th>\n",
       "    </tr>\n",
       "    <tr>\n",
       "      <th>Date</th>\n",
       "      <th></th>\n",
       "    </tr>\n",
       "  </thead>\n",
       "  <tbody>\n",
       "    <tr>\n",
       "      <th>2022-10-23</th>\n",
       "      <td>13</td>\n",
       "    </tr>\n",
       "    <tr>\n",
       "      <th>2022-10-30</th>\n",
       "      <td>14</td>\n",
       "    </tr>\n",
       "    <tr>\n",
       "      <th>2022-11-06</th>\n",
       "      <td>27</td>\n",
       "    </tr>\n",
       "  </tbody>\n",
       "</table>\n",
       "</div>"
      ],
      "text/plain": [
       "            iot\n",
       "Date           \n",
       "2022-10-23   13\n",
       "2022-10-30   14\n",
       "2022-11-06   27"
      ]
     },
     "execution_count": 90,
     "metadata": {},
     "output_type": "execute_result"
    }
   ],
   "source": [
    "btc_iot.tail(3)"
   ]
  },
  {
   "cell_type": "markdown",
   "metadata": {},
   "source": [
    "A base de interesses de pesquisa é semanal, portanto deverá ser preenchida seguindo alguma estratégia para ter periodicidade diária. Também percebe-se que a atualização é mais demorada desses dados, apesar da data máxima ser 17/11, a última atualização é 06/11, o que pode prejudicar uma previsão diária."
   ]
  },
  {
   "cell_type": "markdown",
   "metadata": {},
   "source": [
    "### 2.4. Hash rate"
   ]
  },
  {
   "cell_type": "markdown",
   "metadata": {},
   "source": [
    "Fonte: https://data.nasdaq.com/"
   ]
  },
  {
   "cell_type": "code",
   "execution_count": 46,
   "metadata": {},
   "outputs": [],
   "source": [
    "hash_rate = nasdaqdatalink.get('BCHAIN/HRATE', start_date=periodo[0], end_date=periodo[1])\n",
    "hash_rate = hash_rate.rename(columns={'Value':'hash_rate'})"
   ]
  },
  {
   "cell_type": "code",
   "execution_count": 91,
   "metadata": {
    "ExecuteTime": {
     "end_time": "2022-06-06T00:01:52.489304Z",
     "start_time": "2022-06-06T00:01:52.467321Z"
    }
   },
   "outputs": [
    {
     "data": {
      "text/html": [
       "<div>\n",
       "<style scoped>\n",
       "    .dataframe tbody tr th:only-of-type {\n",
       "        vertical-align: middle;\n",
       "    }\n",
       "\n",
       "    .dataframe tbody tr th {\n",
       "        vertical-align: top;\n",
       "    }\n",
       "\n",
       "    .dataframe thead th {\n",
       "        text-align: right;\n",
       "    }\n",
       "</style>\n",
       "<table border=\"1\" class=\"dataframe\">\n",
       "  <thead>\n",
       "    <tr style=\"text-align: right;\">\n",
       "      <th></th>\n",
       "      <th>hash_rate</th>\n",
       "    </tr>\n",
       "    <tr>\n",
       "      <th>Date</th>\n",
       "      <th></th>\n",
       "    </tr>\n",
       "  </thead>\n",
       "  <tbody>\n",
       "    <tr>\n",
       "      <th>2017-11-17</th>\n",
       "      <td>1.132691e+07</td>\n",
       "    </tr>\n",
       "    <tr>\n",
       "      <th>2017-11-18</th>\n",
       "      <td>9.224307e+06</td>\n",
       "    </tr>\n",
       "    <tr>\n",
       "      <th>2017-11-19</th>\n",
       "      <td>1.085213e+07</td>\n",
       "    </tr>\n",
       "  </tbody>\n",
       "</table>\n",
       "</div>"
      ],
      "text/plain": [
       "               hash_rate\n",
       "Date                    \n",
       "2017-11-17  1.132691e+07\n",
       "2017-11-18  9.224307e+06\n",
       "2017-11-19  1.085213e+07"
      ]
     },
     "execution_count": 91,
     "metadata": {},
     "output_type": "execute_result"
    }
   ],
   "source": [
    "hash_rate.head(3)"
   ]
  },
  {
   "cell_type": "code",
   "execution_count": 92,
   "metadata": {},
   "outputs": [
    {
     "data": {
      "text/html": [
       "<div>\n",
       "<style scoped>\n",
       "    .dataframe tbody tr th:only-of-type {\n",
       "        vertical-align: middle;\n",
       "    }\n",
       "\n",
       "    .dataframe tbody tr th {\n",
       "        vertical-align: top;\n",
       "    }\n",
       "\n",
       "    .dataframe thead th {\n",
       "        text-align: right;\n",
       "    }\n",
       "</style>\n",
       "<table border=\"1\" class=\"dataframe\">\n",
       "  <thead>\n",
       "    <tr style=\"text-align: right;\">\n",
       "      <th></th>\n",
       "      <th>hash_rate</th>\n",
       "    </tr>\n",
       "    <tr>\n",
       "      <th>Date</th>\n",
       "      <th></th>\n",
       "    </tr>\n",
       "  </thead>\n",
       "  <tbody>\n",
       "    <tr>\n",
       "      <th>2022-11-15</th>\n",
       "      <td>2.832561e+08</td>\n",
       "    </tr>\n",
       "    <tr>\n",
       "      <th>2022-11-16</th>\n",
       "      <td>2.741188e+08</td>\n",
       "    </tr>\n",
       "    <tr>\n",
       "      <th>2022-11-17</th>\n",
       "      <td>2.521893e+08</td>\n",
       "    </tr>\n",
       "  </tbody>\n",
       "</table>\n",
       "</div>"
      ],
      "text/plain": [
       "               hash_rate\n",
       "Date                    \n",
       "2022-11-15  2.832561e+08\n",
       "2022-11-16  2.741188e+08\n",
       "2022-11-17  2.521893e+08"
      ]
     },
     "execution_count": 92,
     "metadata": {},
     "output_type": "execute_result"
    }
   ],
   "source": [
    "hash_rate.tail(3)"
   ]
  },
  {
   "cell_type": "markdown",
   "metadata": {},
   "source": [
    "Os dados parecem ser estruturados e estarem corretos."
   ]
  },
  {
   "cell_type": "markdown",
   "metadata": {
    "tags": []
   },
   "source": [
    "--------------\n",
    "\n",
    "## 3. Unificação das bases"
   ]
  },
  {
   "cell_type": "code",
   "execution_count": 50,
   "metadata": {
    "ExecuteTime": {
     "end_time": "2022-06-06T00:01:52.616402Z",
     "start_time": "2022-06-06T00:01:52.602358Z"
    }
   },
   "outputs": [],
   "source": [
    "df_list = [btc, df_yahoo, btc_iot, hash_rate]"
   ]
  },
  {
   "cell_type": "markdown",
   "metadata": {},
   "source": [
    "Ajuste de index para o join"
   ]
  },
  {
   "cell_type": "code",
   "execution_count": 51,
   "metadata": {
    "ExecuteTime": {
     "end_time": "2022-06-06T00:01:52.646734Z",
     "start_time": "2022-06-06T00:01:52.617318Z"
    }
   },
   "outputs": [],
   "source": [
    "df_concat = []\n",
    "for df in df_list:\n",
    "    # Ajuste de index para o join\n",
    "    df.index = pd.to_datetime(df.index, format='%Y-%m-%d %H:%M:%S')\n",
    "    \n",
    "    # Filtro de datas\n",
    "    df = df.loc[(df.index>=periodo[0]) & (df.index<=periodo[1])]\n",
    "    \n",
    "    df_concat.append(df)"
   ]
  },
  {
   "cell_type": "code",
   "execution_count": 52,
   "metadata": {
    "ExecuteTime": {
     "end_time": "2022-06-06T00:01:52.672921Z",
     "start_time": "2022-06-06T00:01:52.648159Z"
    },
    "run_control": {
     "marked": true
    }
   },
   "outputs": [],
   "source": [
    "df_all = pd.concat(df_concat, axis=1)"
   ]
  },
  {
   "cell_type": "code",
   "execution_count": 53,
   "metadata": {
    "ExecuteTime": {
     "end_time": "2022-06-06T00:01:52.702479Z",
     "start_time": "2022-06-06T00:01:52.674914Z"
    }
   },
   "outputs": [
    {
     "data": {
      "text/html": [
       "<div>\n",
       "<style scoped>\n",
       "    .dataframe tbody tr th:only-of-type {\n",
       "        vertical-align: middle;\n",
       "    }\n",
       "\n",
       "    .dataframe tbody tr th {\n",
       "        vertical-align: top;\n",
       "    }\n",
       "\n",
       "    .dataframe thead th {\n",
       "        text-align: right;\n",
       "    }\n",
       "</style>\n",
       "<table border=\"1\" class=\"dataframe\">\n",
       "  <thead>\n",
       "    <tr style=\"text-align: right;\">\n",
       "      <th></th>\n",
       "      <th>btc_high</th>\n",
       "      <th>btc_low</th>\n",
       "      <th>btc_open</th>\n",
       "      <th>btc_close</th>\n",
       "      <th>btc_volume</th>\n",
       "      <th>btc</th>\n",
       "      <th>usdt</th>\n",
       "      <th>eth</th>\n",
       "      <th>ndxt</th>\n",
       "      <th>sp500</th>\n",
       "      <th>usd</th>\n",
       "      <th>iot</th>\n",
       "      <th>hash_rate</th>\n",
       "      <th>funding_rate</th>\n",
       "    </tr>\n",
       "    <tr>\n",
       "      <th>Date</th>\n",
       "      <th></th>\n",
       "      <th></th>\n",
       "      <th></th>\n",
       "      <th></th>\n",
       "      <th></th>\n",
       "      <th></th>\n",
       "      <th></th>\n",
       "      <th></th>\n",
       "      <th></th>\n",
       "      <th></th>\n",
       "      <th></th>\n",
       "      <th></th>\n",
       "      <th></th>\n",
       "      <th></th>\n",
       "    </tr>\n",
       "  </thead>\n",
       "  <tbody>\n",
       "    <tr>\n",
       "      <th>2017-11-17</th>\n",
       "      <td>8004.589844</td>\n",
       "      <td>7561.089844</td>\n",
       "      <td>7853.569824</td>\n",
       "      <td>7708.990234</td>\n",
       "      <td>4651670016</td>\n",
       "      <td>7708.990234</td>\n",
       "      <td>1.001390</td>\n",
       "      <td>332.394012</td>\n",
       "      <td>4031.629883</td>\n",
       "      <td>2578.850098</td>\n",
       "      <td>3.2706</td>\n",
       "      <td>NaN</td>\n",
       "      <td>1.132691e+07</td>\n",
       "      <td>NaN</td>\n",
       "    </tr>\n",
       "    <tr>\n",
       "      <th>2017-11-18</th>\n",
       "      <td>7884.990234</td>\n",
       "      <td>7463.439941</td>\n",
       "      <td>7697.209961</td>\n",
       "      <td>7790.149902</td>\n",
       "      <td>3667190016</td>\n",
       "      <td>7790.149902</td>\n",
       "      <td>1.002310</td>\n",
       "      <td>347.612000</td>\n",
       "      <td>NaN</td>\n",
       "      <td>NaN</td>\n",
       "      <td>NaN</td>\n",
       "      <td>NaN</td>\n",
       "      <td>9.224307e+06</td>\n",
       "      <td>NaN</td>\n",
       "    </tr>\n",
       "    <tr>\n",
       "      <th>2017-11-19</th>\n",
       "      <td>8101.910156</td>\n",
       "      <td>7694.100098</td>\n",
       "      <td>7766.029785</td>\n",
       "      <td>8036.490234</td>\n",
       "      <td>3149319936</td>\n",
       "      <td>8036.490234</td>\n",
       "      <td>1.002440</td>\n",
       "      <td>354.385986</td>\n",
       "      <td>NaN</td>\n",
       "      <td>NaN</td>\n",
       "      <td>NaN</td>\n",
       "      <td>28.0</td>\n",
       "      <td>1.085213e+07</td>\n",
       "      <td>NaN</td>\n",
       "    </tr>\n",
       "    <tr>\n",
       "      <th>2017-11-20</th>\n",
       "      <td>8336.860352</td>\n",
       "      <td>7949.359863</td>\n",
       "      <td>8039.069824</td>\n",
       "      <td>8200.639648</td>\n",
       "      <td>3488450048</td>\n",
       "      <td>8200.639648</td>\n",
       "      <td>1.001920</td>\n",
       "      <td>366.730011</td>\n",
       "      <td>4044.050049</td>\n",
       "      <td>2582.139893</td>\n",
       "      <td>3.2545</td>\n",
       "      <td>NaN</td>\n",
       "      <td>1.186951e+07</td>\n",
       "      <td>NaN</td>\n",
       "    </tr>\n",
       "    <tr>\n",
       "      <th>2017-11-21</th>\n",
       "      <td>8348.660156</td>\n",
       "      <td>7762.709961</td>\n",
       "      <td>8205.740234</td>\n",
       "      <td>8071.259766</td>\n",
       "      <td>4277609984</td>\n",
       "      <td>8071.259766</td>\n",
       "      <td>0.996047</td>\n",
       "      <td>360.401001</td>\n",
       "      <td>4076.659912</td>\n",
       "      <td>2599.030029</td>\n",
       "      <td>3.2540</td>\n",
       "      <td>NaN</td>\n",
       "      <td>1.173386e+07</td>\n",
       "      <td>NaN</td>\n",
       "    </tr>\n",
       "  </tbody>\n",
       "</table>\n",
       "</div>"
      ],
      "text/plain": [
       "               btc_high      btc_low     btc_open    btc_close  btc_volume  \\\n",
       "Date                                                                         \n",
       "2017-11-17  8004.589844  7561.089844  7853.569824  7708.990234  4651670016   \n",
       "2017-11-18  7884.990234  7463.439941  7697.209961  7790.149902  3667190016   \n",
       "2017-11-19  8101.910156  7694.100098  7766.029785  8036.490234  3149319936   \n",
       "2017-11-20  8336.860352  7949.359863  8039.069824  8200.639648  3488450048   \n",
       "2017-11-21  8348.660156  7762.709961  8205.740234  8071.259766  4277609984   \n",
       "\n",
       "                    btc      usdt         eth         ndxt        sp500  \\\n",
       "Date                                                                      \n",
       "2017-11-17  7708.990234  1.001390  332.394012  4031.629883  2578.850098   \n",
       "2017-11-18  7790.149902  1.002310  347.612000          NaN          NaN   \n",
       "2017-11-19  8036.490234  1.002440  354.385986          NaN          NaN   \n",
       "2017-11-20  8200.639648  1.001920  366.730011  4044.050049  2582.139893   \n",
       "2017-11-21  8071.259766  0.996047  360.401001  4076.659912  2599.030029   \n",
       "\n",
       "               usd   iot     hash_rate  funding_rate  \n",
       "Date                                                  \n",
       "2017-11-17  3.2706   NaN  1.132691e+07           NaN  \n",
       "2017-11-18     NaN   NaN  9.224307e+06           NaN  \n",
       "2017-11-19     NaN  28.0  1.085213e+07           NaN  \n",
       "2017-11-20  3.2545   NaN  1.186951e+07           NaN  \n",
       "2017-11-21  3.2540   NaN  1.173386e+07           NaN  "
      ]
     },
     "execution_count": 53,
     "metadata": {},
     "output_type": "execute_result"
    }
   ],
   "source": [
    "df_all.head(3)"
   ]
  },
  {
   "cell_type": "code",
   "execution_count": 54,
   "metadata": {
    "ExecuteTime": {
     "end_time": "2022-06-06T00:01:52.733753Z",
     "start_time": "2022-06-06T00:01:52.703875Z"
    }
   },
   "outputs": [
    {
     "data": {
      "text/html": [
       "<div>\n",
       "<style scoped>\n",
       "    .dataframe tbody tr th:only-of-type {\n",
       "        vertical-align: middle;\n",
       "    }\n",
       "\n",
       "    .dataframe tbody tr th {\n",
       "        vertical-align: top;\n",
       "    }\n",
       "\n",
       "    .dataframe thead th {\n",
       "        text-align: right;\n",
       "    }\n",
       "</style>\n",
       "<table border=\"1\" class=\"dataframe\">\n",
       "  <thead>\n",
       "    <tr style=\"text-align: right;\">\n",
       "      <th></th>\n",
       "      <th>btc_high</th>\n",
       "      <th>btc_low</th>\n",
       "      <th>btc_open</th>\n",
       "      <th>btc_close</th>\n",
       "      <th>btc_volume</th>\n",
       "      <th>btc</th>\n",
       "      <th>usdt</th>\n",
       "      <th>eth</th>\n",
       "      <th>ndxt</th>\n",
       "      <th>sp500</th>\n",
       "      <th>usd</th>\n",
       "      <th>iot</th>\n",
       "      <th>hash_rate</th>\n",
       "      <th>funding_rate</th>\n",
       "    </tr>\n",
       "    <tr>\n",
       "      <th>Date</th>\n",
       "      <th></th>\n",
       "      <th></th>\n",
       "      <th></th>\n",
       "      <th></th>\n",
       "      <th></th>\n",
       "      <th></th>\n",
       "      <th></th>\n",
       "      <th></th>\n",
       "      <th></th>\n",
       "      <th></th>\n",
       "      <th></th>\n",
       "      <th></th>\n",
       "      <th></th>\n",
       "      <th></th>\n",
       "    </tr>\n",
       "  </thead>\n",
       "  <tbody>\n",
       "    <tr>\n",
       "      <th>2022-11-13</th>\n",
       "      <td>16920.765625</td>\n",
       "      <td>16320.634766</td>\n",
       "      <td>16799.722656</td>\n",
       "      <td>16353.365234</td>\n",
       "      <td>27209183682</td>\n",
       "      <td>16353.365234</td>\n",
       "      <td>0.998755</td>\n",
       "      <td>1221.819214</td>\n",
       "      <td>NaN</td>\n",
       "      <td>NaN</td>\n",
       "      <td>NaN</td>\n",
       "      <td>NaN</td>\n",
       "      <td>2.357422e+08</td>\n",
       "      <td>NaN</td>\n",
       "    </tr>\n",
       "    <tr>\n",
       "      <th>2022-11-14</th>\n",
       "      <td>17109.324219</td>\n",
       "      <td>15872.941406</td>\n",
       "      <td>16352.028320</td>\n",
       "      <td>16618.199219</td>\n",
       "      <td>49630243054</td>\n",
       "      <td>16618.199219</td>\n",
       "      <td>0.999013</td>\n",
       "      <td>1241.604248</td>\n",
       "      <td>6165.009766</td>\n",
       "      <td>3957.250000</td>\n",
       "      <td>5.279059</td>\n",
       "      <td>NaN</td>\n",
       "      <td>2.247774e+08</td>\n",
       "      <td>NaN</td>\n",
       "    </tr>\n",
       "    <tr>\n",
       "      <th>2022-11-15</th>\n",
       "      <td>17051.962891</td>\n",
       "      <td>16542.550781</td>\n",
       "      <td>16617.484375</td>\n",
       "      <td>16884.613281</td>\n",
       "      <td>36599436183</td>\n",
       "      <td>16884.613281</td>\n",
       "      <td>0.999130</td>\n",
       "      <td>1251.736206</td>\n",
       "      <td>6344.140137</td>\n",
       "      <td>3991.729980</td>\n",
       "      <td>5.331200</td>\n",
       "      <td>NaN</td>\n",
       "      <td>2.832561e+08</td>\n",
       "      <td>-0.000054</td>\n",
       "    </tr>\n",
       "    <tr>\n",
       "      <th>2022-11-16</th>\n",
       "      <td>16960.294922</td>\n",
       "      <td>16430.111328</td>\n",
       "      <td>16884.341797</td>\n",
       "      <td>16669.439453</td>\n",
       "      <td>33925512989</td>\n",
       "      <td>16669.439453</td>\n",
       "      <td>0.999229</td>\n",
       "      <td>1215.602539</td>\n",
       "      <td>6121.200195</td>\n",
       "      <td>3958.790039</td>\n",
       "      <td>5.331700</td>\n",
       "      <td>NaN</td>\n",
       "      <td>2.741188e+08</td>\n",
       "      <td>-0.000040</td>\n",
       "    </tr>\n",
       "    <tr>\n",
       "      <th>2022-11-17</th>\n",
       "      <td>16726.439453</td>\n",
       "      <td>16460.683594</td>\n",
       "      <td>16670.425781</td>\n",
       "      <td>16687.517578</td>\n",
       "      <td>27868914022</td>\n",
       "      <td>16687.517578</td>\n",
       "      <td>0.999402</td>\n",
       "      <td>1200.808594</td>\n",
       "      <td>6078.709961</td>\n",
       "      <td>3946.560059</td>\n",
       "      <td>5.399000</td>\n",
       "      <td>NaN</td>\n",
       "      <td>2.521893e+08</td>\n",
       "      <td>-0.000030</td>\n",
       "    </tr>\n",
       "  </tbody>\n",
       "</table>\n",
       "</div>"
      ],
      "text/plain": [
       "                btc_high       btc_low      btc_open     btc_close  \\\n",
       "Date                                                                 \n",
       "2022-11-13  16920.765625  16320.634766  16799.722656  16353.365234   \n",
       "2022-11-14  17109.324219  15872.941406  16352.028320  16618.199219   \n",
       "2022-11-15  17051.962891  16542.550781  16617.484375  16884.613281   \n",
       "2022-11-16  16960.294922  16430.111328  16884.341797  16669.439453   \n",
       "2022-11-17  16726.439453  16460.683594  16670.425781  16687.517578   \n",
       "\n",
       "             btc_volume           btc      usdt          eth         ndxt  \\\n",
       "Date                                                                        \n",
       "2022-11-13  27209183682  16353.365234  0.998755  1221.819214          NaN   \n",
       "2022-11-14  49630243054  16618.199219  0.999013  1241.604248  6165.009766   \n",
       "2022-11-15  36599436183  16884.613281  0.999130  1251.736206  6344.140137   \n",
       "2022-11-16  33925512989  16669.439453  0.999229  1215.602539  6121.200195   \n",
       "2022-11-17  27868914022  16687.517578  0.999402  1200.808594  6078.709961   \n",
       "\n",
       "                  sp500       usd  iot     hash_rate  funding_rate  \n",
       "Date                                                                \n",
       "2022-11-13          NaN       NaN  NaN  2.357422e+08           NaN  \n",
       "2022-11-14  3957.250000  5.279059  NaN  2.247774e+08           NaN  \n",
       "2022-11-15  3991.729980  5.331200  NaN  2.832561e+08     -0.000054  \n",
       "2022-11-16  3958.790039  5.331700  NaN  2.741188e+08     -0.000040  \n",
       "2022-11-17  3946.560059  5.399000  NaN  2.521893e+08     -0.000030  "
      ]
     },
     "execution_count": 54,
     "metadata": {},
     "output_type": "execute_result"
    }
   ],
   "source": [
    "df_all.tail(3)"
   ]
  },
  {
   "cell_type": "markdown",
   "metadata": {},
   "source": [
    "Essa base será utilizada para estudos e modelagem, portanto, será salva no S3, no bucket raw, que serão os dados antes de realizar feature engineering e correções."
   ]
  },
  {
   "cell_type": "markdown",
   "metadata": {},
   "source": [
    "### 3.1. Correção de datas ausentes"
   ]
  },
  {
   "cell_type": "markdown",
   "metadata": {
    "tags": []
   },
   "source": [
    "Para ter certeza que não há datas faltando no dataframe, foi realizado o _reindex_ do dataframe de acordo com o intervalo de datas esperado."
   ]
  },
  {
   "cell_type": "code",
   "execution_count": 55,
   "metadata": {
    "ExecuteTime": {
     "end_time": "2022-06-06T00:01:52.769388Z",
     "start_time": "2022-06-06T00:01:52.735748Z"
    }
   },
   "outputs": [
    {
     "name": "stdout",
     "output_type": "stream",
     "text": [
      "(1827, 14)\n",
      "(1827, 14)\n"
     ]
    }
   ],
   "source": [
    "print(df_all.shape)\n",
    "\n",
    "# Para ter certeza que não há buracos no dataframe série\n",
    "df_all = df_all.apply(lambda group: group.reindex(pd.date_range(periodo[0], periodo[1], freq='D'), \n",
    "                                                  #method='nearest' - vou deixar o método default: none, para que não haja preenchimetnos inadequados\n",
    "                                                  )).sort_index()\n",
    "\n",
    "print(df_all.shape)"
   ]
  },
  {
   "cell_type": "markdown",
   "metadata": {},
   "source": [
    "Não havia buracos no datafreme, pois não houve mudança de tamanho."
   ]
  },
  {
   "cell_type": "markdown",
   "metadata": {
    "jp-MarkdownHeadingCollapsed": true,
    "tags": []
   },
   "source": [
    "### 3.2. Salvamento da base no S3"
   ]
  },
  {
   "cell_type": "markdown",
   "metadata": {
    "tags": []
   },
   "source": [
    "### [A DEFINIR ONDE] Interpolação de valores faltantes no meio da série"
   ]
  },
  {
   "cell_type": "code",
   "execution_count": 59,
   "metadata": {
    "ExecuteTime": {
     "end_time": "2022-06-06T00:01:52.798260Z",
     "start_time": "2022-06-06T00:01:52.770386Z"
    }
   },
   "outputs": [],
   "source": [
    "# df_all = df_all.apply(lambda x: x.interpolate(method='time', ))\n",
    "# df_all = df_all.fillna(df_all.rolling(6,min_periods=1).mean())"
   ]
  },
  {
   "cell_type": "markdown",
   "metadata": {
    "tags": []
   },
   "source": [
    "----------------\n",
    "\n",
    "## 4. Análise exploratória"
   ]
  },
  {
   "cell_type": "markdown",
   "metadata": {},
   "source": [
    "### 4.1. A bitcoin"
   ]
  },
  {
   "cell_type": "code",
   "execution_count": null,
   "metadata": {},
   "outputs": [],
   "source": []
  },
  {
   "cell_type": "markdown",
   "metadata": {},
   "source": [
    "### 4.2. Gráficos das séries x BTC"
   ]
  },
  {
   "cell_type": "code",
   "execution_count": 57,
   "metadata": {
    "ExecuteTime": {
     "end_time": "2022-06-06T00:01:53.116093Z",
     "start_time": "2022-06-06T00:01:53.097891Z"
    }
   },
   "outputs": [],
   "source": [
    "variaveis = [x for x in df_all.columns if not 'btc' in x]"
   ]
  },
  {
   "cell_type": "code",
   "execution_count": 72,
   "metadata": {
    "ExecuteTime": {
     "end_time": "2022-06-06T02:40:15.367176Z",
     "start_time": "2022-06-06T02:24:26.281933Z"
    }
   },
   "outputs": [
    {
     "data": {
      "text/html": [
       "\n",
       "        <iframe\n",
       "            width=\"100%\"\n",
       "            height=\"650\"\n",
       "            src=\"http://127.0.0.1:8081/\"\n",
       "            frameborder=\"0\"\n",
       "            allowfullscreen\n",
       "            \n",
       "        ></iframe>\n",
       "        "
      ],
      "text/plain": [
       "<IPython.lib.display.IFrame at 0x7fbe283979d0>"
      ]
     },
     "metadata": {},
     "output_type": "display_data"
    }
   ],
   "source": [
    "app = JupyterDash('Correlações')\n",
    "\n",
    "app.layout = html.Div([\n",
    "    html.H4(\"Análise do histórico de variáveis x Bitcoin\"),\n",
    "    \n",
    "    html.Div(className='row',children=[\n",
    "        html.Label(['Variáveis:'], style={'font-weight': 'bold', \"text-align\": \"center\"}),\n",
    "        html.Div(children= dcc.Dropdown(\n",
    "            id='y-axis', \n",
    "            options=variaveis,\n",
    "            value='usd', \n",
    "            searchable=False,\n",
    "            clearable=True\n",
    "        ), style=dict(width='15%'))], style=dict(display='flex')),\n",
    "    dcc.Graph(id=\"graph\"),\n",
    "])\n",
    "\n",
    "@app.callback(\n",
    "    Output(\"graph\", \"figure\"), \n",
    "    Input(\"y-axis\", \"value\"))\n",
    "\n",
    "def generate_chart(y):\n",
    "    fig = make_subplots(specs=[[{\"secondary_y\": True}]])\n",
    "\n",
    "    fig.add_trace(go.Scatter(x=df_all.index, y=df_all['btc'], name='BTC', \n",
    "                             line=dict(color=cores_tema['verde_escuro'], width=1.2)))\n",
    "    \n",
    "    fig.add_trace(go.Scatter(x=df_all.index, y=df_all[y], name=y,\n",
    "                             line=dict(color=cores_tema['amarelado'], width=1.2)),secondary_y=True)\n",
    "\n",
    "    fig.update_traces(mode='lines')\n",
    "    fig.update_layout(title='<b>Comparação BTC e covariáveis 2017-2022</b>', **plotly_kwargs)\n",
    "\n",
    "    return fig\n",
    "\n",
    "app.run_server(mode='inline', debug=True, use_reloader=False, port=8081)\n"
   ]
  },
  {
   "cell_type": "markdown",
   "metadata": {},
   "source": [
    "## 5. Correlações"
   ]
  },
  {
   "cell_type": "markdown",
   "metadata": {},
   "source": [
    "### 5.1. Correlação com a resposta no tempo x"
   ]
  },
  {
   "cell_type": "code",
   "execution_count": 28,
   "metadata": {
    "ExecuteTime": {
     "end_time": "2022-06-06T00:21:31.062071Z",
     "start_time": "2022-06-06T00:21:31.049099Z"
    }
   },
   "outputs": [],
   "source": [
    "cols_cov = df_all.columns[~df_all.columns.str.contains('btc_')]\n",
    "df_cov = df_all[cols_cov]"
   ]
  },
  {
   "cell_type": "code",
   "execution_count": 29,
   "metadata": {
    "ExecuteTime": {
     "end_time": "2022-06-06T03:22:02.444984Z",
     "start_time": "2022-06-06T03:22:02.429116Z"
    }
   },
   "outputs": [],
   "source": [
    "df_corr = df_cov.corr()"
   ]
  },
  {
   "cell_type": "code",
   "execution_count": 30,
   "metadata": {
    "ExecuteTime": {
     "end_time": "2022-06-06T03:22:04.719491Z",
     "start_time": "2022-06-06T03:22:04.293135Z"
    }
   },
   "outputs": [
    {
     "name": "stderr",
     "output_type": "stream",
     "text": [
      "ERROR:root:Internal Python error in the inspect module.\n",
      "Below is the traceback from this internal error.\n",
      "\n",
      "\n",
      "KeyboardInterrupt\n",
      "\n"
     ]
    },
    {
     "data": {
      "image/png": "[encoded data removed]",
      "text/plain": [
       "<Figure size 864x432 with 2 Axes>"
      ]
     },
     "metadata": {},
     "output_type": "display_data"
    }
   ],
   "source": [
    "sns.set(rc={'figure.figsize':(12,6)})\n",
    "sns.set_theme(style=\"whitegrid\", rc={\"axes.facecolor\": (0, 0, 0, 0)})\n",
    "\n",
    "mask = np.triu(np.ones_like(df_corr, dtype=bool))\n",
    "\n",
    "fig = sns.heatmap(df_corr, annot=True, fmt='.1f', cmap='mako_r', mask=mask, annot_kws={'fontdict':{'fontsize':14}})\n",
    "fig.set_ylabel(\"\",fontsize=20)\n",
    "\n",
    "plt.tick_params(axis='both', which='major', labelsize=14)\n",
    "\n",
    "plt.show(fig)"
   ]
  },
  {
   "cell_type": "markdown",
   "metadata": {},
   "source": [
    "Aqui já percebemos que funding rate e usd theter não influenciam fortemente a BTC no mesmo período."
   ]
  },
  {
   "cell_type": "code",
   "execution_count": null,
   "metadata": {
    "ExecuteTime": {
     "end_time": "2022-06-06T03:23:11.798307Z",
     "start_time": "2022-06-06T03:23:11.574750Z"
    }
   },
   "outputs": [],
   "source": [
    "# filtrando as correlações maiores que +0.6 e menores que -0.6\n",
    "corr_forte = df_corr[(df_corr > 0.65) | (df_corr < -0.65)]\n",
    "\n",
    "# substituindo os valores das autocorrelações\n",
    "corr_forte.replace(1,np.nan, inplace=True)\n",
    "\n",
    "# retiando as linhas e colunas sem alta correlação\n",
    "corr_forte.dropna(how='all', inplace=True, axis=1)\n",
    "corr_forte.dropna(how='all', inplace=True)\n",
    "\n",
    "plt.tick_params(axis='both', which='major', labelsize=14)\n",
    "\n",
    "if len(corr_forte) :\n",
    "  mask = np.triu(np.ones_like(corr_forte, dtype=bool))\n",
    "  plt.show(sns.heatmap(corr_forte, annot=True, cmap='mako_r', mask=mask, annot_kws={'fontdict':{'fontsize':14}}));\n",
    "else:\n",
    "  print('Não há correlações significativas no conjunto de dados.')"
   ]
  },
  {
   "cell_type": "markdown",
   "metadata": {},
   "source": [
    "Também devemos nos atentara ao uso da `eth` como covariável, por sua correlação com outras covariáveis e assim, podendo gerar multicolinearidade. Escolhemos `sp500` como covariável pois, além de ter alta correlação com `btc` também tem alta correlação com as demais."
   ]
  },
  {
   "cell_type": "markdown",
   "metadata": {},
   "source": [
    "### 5.2. Correlação com a resposta em lag"
   ]
  },
  {
   "cell_type": "code",
   "execution_count": null,
   "metadata": {
    "ExecuteTime": {
     "end_time": "2022-06-06T00:21:31.868276Z",
     "start_time": "2022-06-06T00:21:31.843877Z"
    }
   },
   "outputs": [],
   "source": [
    "lags = list(range(0,8))\n",
    "mm = list(range(1,8))"
   ]
  },
  {
   "cell_type": "code",
   "execution_count": null,
   "metadata": {
    "ExecuteTime": {
     "end_time": "2022-06-06T00:21:34.244480Z",
     "start_time": "2022-06-06T00:21:31.873357Z"
    },
    "scrolled": true
   },
   "outputs": [],
   "source": [
    "df_lag_mm = df_cov\n",
    "for l in lags:\n",
    "    for m in mm:\n",
    "        df_tmp = df_cov.drop(columns='btc').swifter.apply(lambda x: x.shift(l).rolling(m).mean())\n",
    "        df_tmp.columns = [c + '-lag' + str(l) + '_mm' + str(m) for c in df_tmp.columns]\n",
    "        \n",
    "        df_lag_mm = pd.concat([df_lag_mm, df_tmp], axis=1)"
   ]
  },
  {
   "cell_type": "code",
   "execution_count": null,
   "metadata": {
    "ExecuteTime": {
     "end_time": "2022-06-06T00:21:35.729561Z",
     "start_time": "2022-06-06T00:21:34.245477Z"
    },
    "run_control": {
     "marked": true
    }
   },
   "outputs": [],
   "source": [
    "df_lag_mm2 = df_lag_mm.melt(id_vars = 'btc', ignore_index=False, var_name='var', value_name='vlr')\n",
    "df_lag_mm2[['var', 'lag_mm']] = df_lag_mm2['var'].str.split('-',expand=True)"
   ]
  },
  {
   "cell_type": "code",
   "execution_count": null,
   "metadata": {
    "ExecuteTime": {
     "end_time": "2022-06-06T00:21:36.115854Z",
     "start_time": "2022-06-06T00:21:35.731459Z"
    }
   },
   "outputs": [],
   "source": [
    "df_corr_lag_mm = (\n",
    "    df_lag_mm2\n",
    "    .groupby(['var', 'lag_mm']).corr().reset_index()\n",
    "    .query('level_2==\"btc\"').drop(columns=['btc', 'level_2'])\n",
    "    .sort_values(['var', 'lag_mm', 'vlr'], ascending=False)\n",
    ")"
   ]
  },
  {
   "cell_type": "code",
   "execution_count": null,
   "metadata": {
    "ExecuteTime": {
     "end_time": "2022-06-06T00:21:36.129133Z",
     "start_time": "2022-06-06T00:21:36.117845Z"
    }
   },
   "outputs": [],
   "source": [
    "df_corr_lag_mm.groupby(['var'])['vlr'].max()"
   ]
  },
  {
   "cell_type": "markdown",
   "metadata": {},
   "source": [
    "Mesmo com todas as transformações, observamos que as duas variáveis citadas antes, `funding_rate` e `usdt` não possuem correlação com a variável resposta (`btc`), portanto serão descartadas do modelo. Além disso, a variável `iot` possui correlação baixa e será também desconsiderada."
   ]
  },
  {
   "cell_type": "code",
   "execution_count": null,
   "metadata": {
    "ExecuteTime": {
     "end_time": "2022-06-06T00:21:36.160806Z",
     "start_time": "2022-06-06T00:21:36.130399Z"
    }
   },
   "outputs": [],
   "source": [
    "df_corr_lag_mm[~df_corr_lag_mm['var'].isin(['iot', 'usdt', 'funding_rate'])].groupby('var').describe()"
   ]
  },
  {
   "cell_type": "markdown",
   "metadata": {},
   "source": [
    "Observamos também que, mesmo com as transformações de lag ou média móvel caso haja necessidade (se nossa previsão for realizada sem a projeção das covariáveis), ainda temos correlação significativa para o modelo. Isso pode se dar devido à interpolação feita para preenchimento dos dados.\n",
    "Também observamos que a correlação não muda drasticamente entre as transformações, portanto podemos escolher qualquer uma delas para seguir com o modelo."
   ]
  },
  {
   "cell_type": "code",
   "execution_count": null,
   "metadata": {
    "ExecuteTime": {
     "end_time": "2022-06-04T20:38:38.919438Z",
     "start_time": "2022-06-04T20:38:17.745159Z"
    },
    "deletable": false,
    "editable": false,
    "id": "NHNqZLXPVNJ_",
    "run_control": {
     "frozen": true
    }
   },
   "outputs": [],
   "source": [
    "%%capture\n",
    "!pip install --upgrade pip\n",
    "!pip install --upgrade pandas\n",
    "!pip install --upgrade pandas-datareader\n",
    "!pip install cmasher\n",
    "!pip install pytrends"
   ]
  },
  {
   "cell_type": "code",
   "execution_count": null,
   "metadata": {
    "ExecuteTime": {
     "end_time": "2022-06-06T03:31:06.314049Z",
     "start_time": "2022-06-06T03:31:06.295090Z"
    }
   },
   "outputs": [],
   "source": [
    "df_corr_lag_mm[df_corr_lag_mm['var']=='sp500']"
   ]
  },
  {
   "cell_type": "code",
   "execution_count": null,
   "metadata": {},
   "outputs": [],
   "source": []
  }
 ],
 "metadata": {
  "colab": {
   "authorship_tag": "ABX9TyNw3t79toto4jpHaByZXe5p",
   "collapsed_sections": [
    "pnqNjN9FWeqh",
    "bo-6NLRmqixk",
    "JxaEEIq7Wg0j",
    "zYHvts0wjTAU",
    "E4L52kBkm_n6",
    "4F70TpX9pYls",
    "kQ2NB3W7ySWC",
    "P6nPFrUe2FIH",
    "AUfa_OWj1FhJ"
   ],
   "include_colab_link": true,
   "name": "MODEL_yahoo_bitcoin.ipynb",
   "provenance": []
  },
  "kernelspec": {
   "display_name": "conda_amazonei_pytorch_latest_p37",
   "language": "python",
   "name": "conda_amazonei_pytorch_latest_p37"
  },
  "language_info": {
   "codemirror_mode": {
    "name": "ipython",
    "version": 3
   },
   "file_extension": ".py",
   "mimetype": "text/x-python",
   "name": "python",
   "nbconvert_exporter": "python",
   "pygments_lexer": "ipython3",
   "version": "3.7.12"
  },
  "toc": {
   "base_numbering": 1,
   "nav_menu": {},
   "number_sections": true,
   "sideBar": true,
   "skip_h1_title": false,
   "title_cell": "Table of Contents",
   "title_sidebar": "Contents",
   "toc_cell": false,
   "toc_position": {
    "height": "calc(100% - 180px)",
    "left": "10px",
    "top": "150px",
    "width": "384px"
   },
   "toc_section_display": true,
   "toc_window_display": true
  }
 },
 "nbformat": 4,
 "nbformat_minor": 4
}
